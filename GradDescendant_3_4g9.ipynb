{
 "cells": [
  {
   "cell_type": "code",
   "execution_count": 5,
   "id": "07854711",
   "metadata": {},
   "outputs": [
    {
     "name": "stdout",
     "output_type": "stream",
     "text": [
      "x = 0\n",
      "y = 56757383109737427437474981307394736259072\n",
      "Global Minimum Point = 10.0\n"
     ]
    }
   ],
   "source": [
    "#Assignment 3 \n",
    "import numpy as np\n",
    "import math\n",
    "x=np.random.uniform(-100,100)\n",
    "y=np.random.uniform(-100,100)\n",
    "eeta=0.002\n",
    "iters=500\n",
    "iteration=0\n",
    "while iteration<iters:\n",
    "    slopex=6*x\n",
    "    slopey=-5*math.exp(-y)\n",
    "    stepx=(-eeta)*slopex\n",
    "    stepy=(-eeta)*slopey\n",
    "    x=x+stepx\n",
    "    y=y+stepy\n",
    "    iteration=iteration+1\n",
    "x=round(x)\n",
    "y=round(y)\n",
    "obj=3*(x**2)+5*math.exp(-y)+10\n",
    "print('x =',x)\n",
    "print('y =',y)\n",
    "print('Global Minimum Point =', obj)"
   ]
  },
  {
   "cell_type": "code",
   "execution_count": null,
   "id": "8cc8597b",
   "metadata": {},
   "outputs": [],
   "source": []
  },
  {
   "cell_type": "code",
   "execution_count": null,
   "id": "3ad0b0f5",
   "metadata": {},
   "outputs": [],
   "source": []
  }
 ],
 "metadata": {
  "kernelspec": {
   "display_name": "Python 3",
   "language": "python",
   "name": "python3"
  },
  "language_info": {
   "codemirror_mode": {
    "name": "ipython",
    "version": 3
   },
   "file_extension": ".py",
   "mimetype": "text/x-python",
   "name": "python",
   "nbconvert_exporter": "python",
   "pygments_lexer": "ipython3",
   "version": "3.8.8"
  }
 },
 "nbformat": 4,
 "nbformat_minor": 5
}
