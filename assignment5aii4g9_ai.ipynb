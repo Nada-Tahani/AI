{
  "nbformat": 4,
  "nbformat_minor": 0,
  "metadata": {
    "kernelspec": {
      "display_name": "Python 3",
      "language": "python",
      "name": "python3"
    },
    "language_info": {
      "codemirror_mode": {
        "name": "ipython",
        "version": 3
      },
      "file_extension": ".py",
      "mimetype": "text/x-python",
      "name": "python",
      "nbconvert_exporter": "python",
      "pygments_lexer": "ipython3",
      "version": "3.8.3"
    },
    "colab": {
      "name": "assignment5ai4g9_ai.ipynb",
      "provenance": [],
      "collapsed_sections": [],
      "include_colab_link": true
    }
  },
  "cells": [
    {
      "cell_type": "markdown",
      "metadata": {
        "id": "view-in-github",
        "colab_type": "text"
      },
      "source": [
        "<a href=\"https://colab.research.google.com/github/Nada-Tahani/AI/blob/main/assignment5aii4g9_ai.ipynb\" target=\"_parent\"><img src=\"https://colab.research.google.com/assets/colab-badge.svg\" alt=\"Open In Colab\"/></a>"
      ]
    },
    {
      "cell_type": "code",
      "metadata": {
        "colab": {
          "base_uri": "https://localhost:8080/"
        },
        "id": "dwWcnPPl3NL0",
        "outputId": "3a31d817-2fca-49da-c37a-326ccb44bac9"
      },
      "source": [
        "from google.colab import drive\n",
        "drive.mount('/content/drive')"
      ],
      "execution_count": 1,
      "outputs": [
        {
          "output_type": "stream",
          "name": "stdout",
          "text": [
            "Drive already mounted at /content/drive; to attempt to forcibly remount, call drive.mount(\"/content/drive\", force_remount=True).\n"
          ]
        }
      ]
    },
    {
      "cell_type": "code",
      "metadata": {
        "id": "F7kxE3MY3sjg"
      },
      "source": [
        "import numpy as np\n",
        "import pandas as pd"
      ],
      "execution_count": 2,
      "outputs": []
    },
    {
      "cell_type": "code",
      "metadata": {
        "id": "hgXIXwax3NL6"
      },
      "source": [
        "data=pd.read_excel('/content/drive/MyDrive/aig95')"
      ],
      "execution_count": 3,
      "outputs": []
    },
    {
      "cell_type": "code",
      "metadata": {
        "id": "5txb3kYK3NL6",
        "colab": {
          "base_uri": "https://localhost:8080/",
          "height": 204
        },
        "outputId": "0fa69bbe-7ab6-4650-b4db-fd5e04f1ff99"
      },
      "source": [
        "data.head()"
      ],
      "execution_count": 4,
      "outputs": [
        {
          "output_type": "execute_result",
          "data": {
            "text/html": [
              "<div>\n",
              "<style scoped>\n",
              "    .dataframe tbody tr th:only-of-type {\n",
              "        vertical-align: middle;\n",
              "    }\n",
              "\n",
              "    .dataframe tbody tr th {\n",
              "        vertical-align: top;\n",
              "    }\n",
              "\n",
              "    .dataframe thead th {\n",
              "        text-align: right;\n",
              "    }\n",
              "</style>\n",
              "<table border=\"1\" class=\"dataframe\">\n",
              "  <thead>\n",
              "    <tr style=\"text-align: right;\">\n",
              "      <th></th>\n",
              "      <th>Date</th>\n",
              "      <th>Time</th>\n",
              "      <th>Load (kW)</th>\n",
              "    </tr>\n",
              "  </thead>\n",
              "  <tbody>\n",
              "    <tr>\n",
              "      <th>0</th>\n",
              "      <td>01.09.2018</td>\n",
              "      <td>00:00:00</td>\n",
              "      <td>5551.82208</td>\n",
              "    </tr>\n",
              "    <tr>\n",
              "      <th>1</th>\n",
              "      <td>NaN</td>\n",
              "      <td>01:00:00</td>\n",
              "      <td>4983.17184</td>\n",
              "    </tr>\n",
              "    <tr>\n",
              "      <th>2</th>\n",
              "      <td>NaN</td>\n",
              "      <td>02:00:00</td>\n",
              "      <td>4888.39680</td>\n",
              "    </tr>\n",
              "    <tr>\n",
              "      <th>3</th>\n",
              "      <td>NaN</td>\n",
              "      <td>03:00:00</td>\n",
              "      <td>5072.95872</td>\n",
              "    </tr>\n",
              "    <tr>\n",
              "      <th>4</th>\n",
              "      <td>NaN</td>\n",
              "      <td>04:00:00</td>\n",
              "      <td>5196.25980</td>\n",
              "    </tr>\n",
              "  </tbody>\n",
              "</table>\n",
              "</div>"
            ],
            "text/plain": [
              "         Date      Time   Load (kW)\n",
              "0  01.09.2018  00:00:00  5551.82208\n",
              "1         NaN  01:00:00  4983.17184\n",
              "2         NaN  02:00:00  4888.39680\n",
              "3         NaN  03:00:00  5072.95872\n",
              "4         NaN  04:00:00  5196.25980"
            ]
          },
          "metadata": {},
          "execution_count": 4
        }
      ]
    },
    {
      "cell_type": "code",
      "metadata": {
        "id": "mN6nva_03NL7"
      },
      "source": [
        "LT_3=[]\n",
        "LT_2=[]\n",
        "LT_1=[]\n",
        "LT=[]\n",
        "data = data['Load (kW)']\n",
        "for i in range(3, data.shape[0]):\n",
        "    LT.append(data.iloc[i])\n",
        "    LT_1.append(data.iloc[i-1])\n",
        "    LT_2.append(data.iloc[i-2])\n",
        "    LT_3.append(data.iloc[i-3])"
      ],
      "execution_count": 5,
      "outputs": []
    },
    {
      "cell_type": "code",
      "metadata": {
        "id": "XpCjx91-3NL8"
      },
      "source": [
        "data=pd.DataFrame({'L(T-3)':LT_3,'L(T-2)':LT_2,'L(T-1)':LT_1,'L(T)':LT})"
      ],
      "execution_count": 6,
      "outputs": []
    },
    {
      "cell_type": "code",
      "metadata": {
        "id": "PzSfOJqP3NL9",
        "colab": {
          "base_uri": "https://localhost:8080/",
          "height": 419
        },
        "outputId": "f9b4d4df-8d24-4b39-cd14-980b0be7c61e"
      },
      "source": [
        "data"
      ],
      "execution_count": 7,
      "outputs": [
        {
          "output_type": "execute_result",
          "data": {
            "text/html": [
              "<div>\n",
              "<style scoped>\n",
              "    .dataframe tbody tr th:only-of-type {\n",
              "        vertical-align: middle;\n",
              "    }\n",
              "\n",
              "    .dataframe tbody tr th {\n",
              "        vertical-align: top;\n",
              "    }\n",
              "\n",
              "    .dataframe thead th {\n",
              "        text-align: right;\n",
              "    }\n",
              "</style>\n",
              "<table border=\"1\" class=\"dataframe\">\n",
              "  <thead>\n",
              "    <tr style=\"text-align: right;\">\n",
              "      <th></th>\n",
              "      <th>L(T-3)</th>\n",
              "      <th>L(T-2)</th>\n",
              "      <th>L(T-1)</th>\n",
              "      <th>L(T)</th>\n",
              "    </tr>\n",
              "  </thead>\n",
              "  <tbody>\n",
              "    <tr>\n",
              "      <th>0</th>\n",
              "      <td>5551.82208</td>\n",
              "      <td>4983.17184</td>\n",
              "      <td>4888.39680</td>\n",
              "      <td>5072.95872</td>\n",
              "    </tr>\n",
              "    <tr>\n",
              "      <th>1</th>\n",
              "      <td>4983.17184</td>\n",
              "      <td>4888.39680</td>\n",
              "      <td>5072.95872</td>\n",
              "      <td>5196.25980</td>\n",
              "    </tr>\n",
              "    <tr>\n",
              "      <th>2</th>\n",
              "      <td>4888.39680</td>\n",
              "      <td>5072.95872</td>\n",
              "      <td>5196.25980</td>\n",
              "      <td>5641.29720</td>\n",
              "    </tr>\n",
              "    <tr>\n",
              "      <th>3</th>\n",
              "      <td>5072.95872</td>\n",
              "      <td>5196.25980</td>\n",
              "      <td>5641.29720</td>\n",
              "      <td>7153.17732</td>\n",
              "    </tr>\n",
              "    <tr>\n",
              "      <th>4</th>\n",
              "      <td>5196.25980</td>\n",
              "      <td>5641.29720</td>\n",
              "      <td>7153.17732</td>\n",
              "      <td>7849.80504</td>\n",
              "    </tr>\n",
              "    <tr>\n",
              "      <th>...</th>\n",
              "      <td>...</td>\n",
              "      <td>...</td>\n",
              "      <td>...</td>\n",
              "      <td>...</td>\n",
              "    </tr>\n",
              "    <tr>\n",
              "      <th>2176</th>\n",
              "      <td>5315.50800</td>\n",
              "      <td>5294.62008</td>\n",
              "      <td>5045.52384</td>\n",
              "      <td>4626.51840</td>\n",
              "    </tr>\n",
              "    <tr>\n",
              "      <th>2177</th>\n",
              "      <td>5294.62008</td>\n",
              "      <td>5045.52384</td>\n",
              "      <td>4626.51840</td>\n",
              "      <td>4567.90752</td>\n",
              "    </tr>\n",
              "    <tr>\n",
              "      <th>2178</th>\n",
              "      <td>5045.52384</td>\n",
              "      <td>4626.51840</td>\n",
              "      <td>4567.90752</td>\n",
              "      <td>4723.63164</td>\n",
              "    </tr>\n",
              "    <tr>\n",
              "      <th>2179</th>\n",
              "      <td>4626.51840</td>\n",
              "      <td>4567.90752</td>\n",
              "      <td>4723.63164</td>\n",
              "      <td>5150.27520</td>\n",
              "    </tr>\n",
              "    <tr>\n",
              "      <th>2180</th>\n",
              "      <td>4567.90752</td>\n",
              "      <td>4723.63164</td>\n",
              "      <td>5150.27520</td>\n",
              "      <td>6938.37468</td>\n",
              "    </tr>\n",
              "  </tbody>\n",
              "</table>\n",
              "<p>2181 rows × 4 columns</p>\n",
              "</div>"
            ],
            "text/plain": [
              "          L(T-3)      L(T-2)      L(T-1)        L(T)\n",
              "0     5551.82208  4983.17184  4888.39680  5072.95872\n",
              "1     4983.17184  4888.39680  5072.95872  5196.25980\n",
              "2     4888.39680  5072.95872  5196.25980  5641.29720\n",
              "3     5072.95872  5196.25980  5641.29720  7153.17732\n",
              "4     5196.25980  5641.29720  7153.17732  7849.80504\n",
              "...          ...         ...         ...         ...\n",
              "2176  5315.50800  5294.62008  5045.52384  4626.51840\n",
              "2177  5294.62008  5045.52384  4626.51840  4567.90752\n",
              "2178  5045.52384  4626.51840  4567.90752  4723.63164\n",
              "2179  4626.51840  4567.90752  4723.63164  5150.27520\n",
              "2180  4567.90752  4723.63164  5150.27520  6938.37468\n",
              "\n",
              "[2181 rows x 4 columns]"
            ]
          },
          "metadata": {},
          "execution_count": 7
        }
      ]
    },
    {
      "cell_type": "code",
      "metadata": {
        "id": "SIjQYeJX3NL9"
      },
      "source": [
        "LT3_max=np.max(data['L(T-3)'])\n",
        "LT3_min=np.min(data['L(T-3)'])\n",
        "LT2_max=np.max(data['L(T-2)'])\n",
        "LT2_min=np.min(data['L(T-2)'])\n",
        "LT1_max=np.max(data['L(T-1)'])\n",
        "LT1_min=np.min(data['L(T-1)'])\n",
        "LT_max=np.max(data['L(T)'])\n",
        "LT_min=np.min(data['L(T)'])"
      ],
      "execution_count": 8,
      "outputs": []
    },
    {
      "cell_type": "code",
      "metadata": {
        "id": "istYZh0L3NL-"
      },
      "source": [
        "data['L(T-3)']=(data['L(T-3)']-LT3_min)/(LT3_max-LT3_min)\n",
        "data['L(T-2)']=(data['L(T-2)']-LT2_min)/(LT2_max-LT2_min)\n",
        "data['L(T-1)']=(data['L(T-1)']-LT1_min)/(LT1_max-LT1_min)\n",
        "data['L(T)']=(data['L(T)']-LT_min)/(LT_max-LT_min)"
      ],
      "execution_count": 9,
      "outputs": []
    },
    {
      "cell_type": "code",
      "metadata": {
        "id": "RiA_LKEx3NL_",
        "colab": {
          "base_uri": "https://localhost:8080/",
          "height": 204
        },
        "outputId": "2eb0451d-9b9a-4dde-f88f-17ef59d8c6fc"
      },
      "source": [
        "data.head()"
      ],
      "execution_count": 10,
      "outputs": [
        {
          "output_type": "execute_result",
          "data": {
            "text/html": [
              "<div>\n",
              "<style scoped>\n",
              "    .dataframe tbody tr th:only-of-type {\n",
              "        vertical-align: middle;\n",
              "    }\n",
              "\n",
              "    .dataframe tbody tr th {\n",
              "        vertical-align: top;\n",
              "    }\n",
              "\n",
              "    .dataframe thead th {\n",
              "        text-align: right;\n",
              "    }\n",
              "</style>\n",
              "<table border=\"1\" class=\"dataframe\">\n",
              "  <thead>\n",
              "    <tr style=\"text-align: right;\">\n",
              "      <th></th>\n",
              "      <th>L(T-3)</th>\n",
              "      <th>L(T-2)</th>\n",
              "      <th>L(T-1)</th>\n",
              "      <th>L(T)</th>\n",
              "    </tr>\n",
              "  </thead>\n",
              "  <tbody>\n",
              "    <tr>\n",
              "      <th>0</th>\n",
              "      <td>0.397877</td>\n",
              "      <td>0.293800</td>\n",
              "      <td>0.276454</td>\n",
              "      <td>0.310234</td>\n",
              "    </tr>\n",
              "    <tr>\n",
              "      <th>1</th>\n",
              "      <td>0.293800</td>\n",
              "      <td>0.276454</td>\n",
              "      <td>0.310234</td>\n",
              "      <td>0.332801</td>\n",
              "    </tr>\n",
              "    <tr>\n",
              "      <th>2</th>\n",
              "      <td>0.276454</td>\n",
              "      <td>0.310234</td>\n",
              "      <td>0.332801</td>\n",
              "      <td>0.414254</td>\n",
              "    </tr>\n",
              "    <tr>\n",
              "      <th>3</th>\n",
              "      <td>0.310234</td>\n",
              "      <td>0.332801</td>\n",
              "      <td>0.414254</td>\n",
              "      <td>0.690965</td>\n",
              "    </tr>\n",
              "    <tr>\n",
              "      <th>4</th>\n",
              "      <td>0.332801</td>\n",
              "      <td>0.414254</td>\n",
              "      <td>0.690965</td>\n",
              "      <td>0.818465</td>\n",
              "    </tr>\n",
              "  </tbody>\n",
              "</table>\n",
              "</div>"
            ],
            "text/plain": [
              "     L(T-3)    L(T-2)    L(T-1)      L(T)\n",
              "0  0.397877  0.293800  0.276454  0.310234\n",
              "1  0.293800  0.276454  0.310234  0.332801\n",
              "2  0.276454  0.310234  0.332801  0.414254\n",
              "3  0.310234  0.332801  0.414254  0.690965\n",
              "4  0.332801  0.414254  0.690965  0.818465"
            ]
          },
          "metadata": {},
          "execution_count": 10
        }
      ]
    },
    {
      "cell_type": "code",
      "metadata": {
        "id": "rbVypNP23NMB"
      },
      "source": [
        "from sklearn.model_selection import train_test_split\n",
        "x=data[['L(T-3)', 'L(T-2)', 'L(T-1)']]\n",
        "y=data['L(T)']\n",
        "x_train,x_test,y_train,y_test=train_test_split(x,y,test_size=0.1,random_state=101)"
      ],
      "execution_count": 11,
      "outputs": []
    },
    {
      "cell_type": "code",
      "metadata": {
        "id": "Rv75olzw3NMC",
        "colab": {
          "base_uri": "https://localhost:8080/"
        },
        "outputId": "3a047bf1-b85f-4ac3-9ba2-1062418bfe85"
      },
      "source": [
        "m1=np.random.uniform(-5,5)\n",
        "m2=np.random.uniform(-5,5)\n",
        "m3=np.random.uniform(-5,5)\n",
        "c=np.random.uniform(-5,5)\n",
        "eta=0.01\n",
        "epochs=500\n",
        "iters=0\n",
        "while iters<epochs:\n",
        "    for i in range(x_train.shape[0]):\n",
        "        delm1=-1*x_train.iat[i,0]*(y_train.iat[i]-m1*x_train.iat[i,0]-m2*x_train.iat[i,1]-m3*x_train.iat[i,2]-c)\n",
        "        delm2=-1*x_train.iat[i,1]*(y_train.iat[i]-m1*x_train.iat[i,0]-m2*x_train.iat[i,1]-m3*x_train.iat[i,2]-c)\n",
        "        delm3=-1*x_train.iat[i,2]*(y_train.iat[i]-m1*x_train.iat[i,0]-m2*x_train.iat[i,1]-m3*x_train.iat[i,2]-c)\n",
        "        delc=-1*(y_train.iat[i]-m1*x_train.iat[i,0]-m2*x_train.iat[i,1]-m3*x_train.iat[i,2]-c)\n",
        "        m1=m1-eta*delm1\n",
        "        m2=m2-eta*delm2\n",
        "        m3=m3-eta*delm3\n",
        "        c=c-eta*delc\n",
        "    iters=iters+1\n",
        "print(m1,m2,m3,c)"
      ],
      "execution_count": 13,
      "outputs": [
        {
          "output_type": "stream",
          "name": "stdout",
          "text": [
            "-0.22572338347239887 0.017796897498238918 0.8789895836189373 0.15379276582901064\n"
          ]
        }
      ]
    },
    {
      "cell_type": "code",
      "metadata": {
        "id": "54u_XsgD3NMC"
      },
      "source": [
        "y_pred_train=[]\n",
        "for i in range(x_train.shape[0]):\n",
        "    x1=x_train.iat[i,0]\n",
        "    x2=x_train.iat[i,1]\n",
        "    x3=x_train.iat[i,2]\n",
        "    y=y_train.iat[i]\n",
        "    y_p_tr = (m1 * x1) + (m2 * x2) + (m3 * x3) + c\n",
        "    y_pred_train.append(y_p_tr)\n",
        "y_pred_train = np.array(y_pred_train)"
      ],
      "execution_count": 14,
      "outputs": []
    },
    {
      "cell_type": "code",
      "metadata": {
        "id": "RDtclGLY3NMD"
      },
      "source": [
        "y_pred_test=[]\n",
        "for i in range(x_test.shape[0]):\n",
        "    x1=x_test.iat[i,0]\n",
        "    x2=x_test.iat[i,1]\n",
        "    x3=x_test.iat[i,2]\n",
        "    y=y_test.iat[i]\n",
        "    y_p_te = (m1 * x1) + (m2 * x2) + (m3 * x3) + c\n",
        "    y_pred_test.append(y_p_te)\n",
        "y_pred_test = np.array(y_pred_test)"
      ],
      "execution_count": 15,
      "outputs": []
    },
    {
      "cell_type": "code",
      "metadata": {
        "id": "xvAZ7B-P3NMD",
        "colab": {
          "base_uri": "https://localhost:8080/"
        },
        "outputId": "d3ac45bd-3532-4b77-960e-4b311f0ff507"
      },
      "source": [
        "x_train['L(T-3)'] =x_train['L(T-3)']*(LT3_max-LT3_min)+LT3_min\n",
        "x_train['L(T-2)']= x_train['L(T-2)']*(LT2_max-LT2_min)+LT2_min\n",
        "x_train['L(T-1)']= x_train['L(T-1)']*(LT1_max-LT1_min)+LT1_min\n",
        "y_train =y_train*(LT_max-LT_min)+LT_min\n",
        "y_pred_train =y_pred_train*(LT_max-LT_min)+LT_min\n",
        "\n",
        "x_test['L(T-3)']=x_test['L(T-3)']*(LT3_max-LT3_min)+LT3_min\n",
        "x_test['L(T-2)']=x_test['L(T-2)']*(LT2_max-LT2_min)+LT2_min\n",
        "x_test['L(T-1)']=x_test['L(T-1)']*(LT1_max-LT1_min)+LT1_min\n",
        "y_test=y_test*(LT_max-LT_min)+LT_min\n",
        "y_pred_test=y_pred_test*(LT_max-LT_min)+LT_min"
      ],
      "execution_count": 16,
      "outputs": [
        {
          "output_type": "stream",
          "name": "stderr",
          "text": [
            "/usr/local/lib/python3.7/dist-packages/ipykernel_launcher.py:1: SettingWithCopyWarning: \n",
            "A value is trying to be set on a copy of a slice from a DataFrame.\n",
            "Try using .loc[row_indexer,col_indexer] = value instead\n",
            "\n",
            "See the caveats in the documentation: https://pandas.pydata.org/pandas-docs/stable/user_guide/indexing.html#returning-a-view-versus-a-copy\n",
            "  \"\"\"Entry point for launching an IPython kernel.\n",
            "/usr/local/lib/python3.7/dist-packages/ipykernel_launcher.py:2: SettingWithCopyWarning: \n",
            "A value is trying to be set on a copy of a slice from a DataFrame.\n",
            "Try using .loc[row_indexer,col_indexer] = value instead\n",
            "\n",
            "See the caveats in the documentation: https://pandas.pydata.org/pandas-docs/stable/user_guide/indexing.html#returning-a-view-versus-a-copy\n",
            "  \n",
            "/usr/local/lib/python3.7/dist-packages/ipykernel_launcher.py:3: SettingWithCopyWarning: \n",
            "A value is trying to be set on a copy of a slice from a DataFrame.\n",
            "Try using .loc[row_indexer,col_indexer] = value instead\n",
            "\n",
            "See the caveats in the documentation: https://pandas.pydata.org/pandas-docs/stable/user_guide/indexing.html#returning-a-view-versus-a-copy\n",
            "  This is separate from the ipykernel package so we can avoid doing imports until\n",
            "/usr/local/lib/python3.7/dist-packages/ipykernel_launcher.py:7: SettingWithCopyWarning: \n",
            "A value is trying to be set on a copy of a slice from a DataFrame.\n",
            "Try using .loc[row_indexer,col_indexer] = value instead\n",
            "\n",
            "See the caveats in the documentation: https://pandas.pydata.org/pandas-docs/stable/user_guide/indexing.html#returning-a-view-versus-a-copy\n",
            "  import sys\n",
            "/usr/local/lib/python3.7/dist-packages/ipykernel_launcher.py:8: SettingWithCopyWarning: \n",
            "A value is trying to be set on a copy of a slice from a DataFrame.\n",
            "Try using .loc[row_indexer,col_indexer] = value instead\n",
            "\n",
            "See the caveats in the documentation: https://pandas.pydata.org/pandas-docs/stable/user_guide/indexing.html#returning-a-view-versus-a-copy\n",
            "  \n",
            "/usr/local/lib/python3.7/dist-packages/ipykernel_launcher.py:9: SettingWithCopyWarning: \n",
            "A value is trying to be set on a copy of a slice from a DataFrame.\n",
            "Try using .loc[row_indexer,col_indexer] = value instead\n",
            "\n",
            "See the caveats in the documentation: https://pandas.pydata.org/pandas-docs/stable/user_guide/indexing.html#returning-a-view-versus-a-copy\n",
            "  if __name__ == '__main__':\n"
          ]
        }
      ]
    },
    {
      "cell_type": "code",
      "metadata": {
        "id": "X-tSVRX83NME"
      },
      "source": [
        "from sklearn.metrics import mean_absolute_error\n",
        "from sklearn.metrics import mean_squared_error\n",
        "import math"
      ],
      "execution_count": 19,
      "outputs": []
    },
    {
      "cell_type": "code",
      "metadata": {
        "id": "PrICqfDy3NMF",
        "colab": {
          "base_uri": "https://localhost:8080/"
        },
        "outputId": "93641cc6-9ef7-42e2-b263-137e21451dd1"
      },
      "source": [
        "rmse = math.sqrt(mean_squared_error(y_train, y_pred_train)) \n",
        "print('Root mean square error', rmse) \n",
        "mse = (mean_squared_error(y_train, y_pred_train)) \n",
        "print('Mean square error', mse) \n",
        "mae=mean_absolute_error(y_train, y_pred_train)\n",
        "print('Mean absolute error', mae)"
      ],
      "execution_count": 21,
      "outputs": [
        {
          "output_type": "stream",
          "name": "stdout",
          "text": [
            "Root mean square error 643.5763405497651\n",
            "Mean square error 414190.5061154271\n",
            "Mean absolute error 443.52451009677344\n"
          ]
        }
      ]
    },
    {
      "cell_type": "code",
      "metadata": {
        "id": "GNm-0qzU3NMG",
        "colab": {
          "base_uri": "https://localhost:8080/"
        },
        "outputId": "8dde5cc4-b32e-4d87-f9c7-e4abefe545a1"
      },
      "source": [
        "mse = math.sqrt(mean_squared_error(y_test, y_pred_test)) \n",
        "print('Root mean square error', mse) \n",
        "mse = (mean_squared_error(y_test, y_pred_test)) \n",
        "print('Mean square error', mse) \n",
        "mae=mean_absolute_error(y_test, y_pred_test)\n",
        "print('Mean absolute error', mae)"
      ],
      "execution_count": 22,
      "outputs": [
        {
          "output_type": "stream",
          "name": "stdout",
          "text": [
            "Root mean square error 609.1523142103994\n",
            "Mean square error 371066.54190788505\n",
            "Mean absolute error 434.9494363035504\n"
          ]
        }
      ]
    },
    {
      "cell_type": "code",
      "metadata": {
        "id": "-RbJ2cmu3NMG",
        "colab": {
          "base_uri": "https://localhost:8080/"
        },
        "outputId": "447a2e1b-fa60-4dd9-856c-bc00408112a4"
      },
      "source": [
        "LT3=input('enter L(T-3) value')\n",
        "LT2=input('enter L(T-2) value')\n",
        "LT1=input('enter :(T-1) value')\n",
        "print('L(T-3)=',LT3)\n",
        "print('L(T-2)=',LT2)\n",
        "print('L(T-1)=',LT1)\n",
        "Y=m1*float(LT3)+m2*float(LT2)+m3*float(LT1)+c\n",
        "print('Y=',Y)"
      ],
      "execution_count": 23,
      "outputs": [
        {
          "output_type": "stream",
          "name": "stdout",
          "text": [
            "enter L(T-3) value11.8\n",
            "enter L(T-2) value12.67\n",
            "enter :(T-1) value233\n",
            "L(T-3)= 11.8\n",
            "L(T-2)= 12.67\n",
            "L(T-1)= 233\n",
            "Y= 202.52031651536979\n"
          ]
        }
      ]
    },
    {
      "cell_type": "code",
      "metadata": {
        "id": "s8xYCxMu3NMH"
      },
      "source": [
        ""
      ],
      "execution_count": null,
      "outputs": []
    }
  ]
}