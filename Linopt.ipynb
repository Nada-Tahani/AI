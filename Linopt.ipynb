{
 "cells": [
  {
   "cell_type": "code",
   "execution_count": 22,
   "id": "23df4223",
   "metadata": {},
   "outputs": [
    {
     "name": "stdout",
     "output_type": "stream",
     "text": [
      "Amount of wheat= 98\n",
      "Amount of Bareley= 7\n",
      "profit= 5740\n"
     ]
    }
   ],
   "source": [
    "from scipy.optimize import linprog\n",
    "obj = [-50,-120] #objective function matrix\n",
    "#Constraints:7a+2b<=700\n",
    "#a+3b<=120\n",
    "A_ieq=[[7,2],[1,3],[1,1]] #Inequality constraints coeff mat\n",
    "B_ieq=[700,120,110] #Inequality constraints const mat\n",
    "boundary = [(0,float('inf')), (0,float('inf'))]\n",
    "opt = linprog(c=obj, A_ub=A_ieq, b_ub=B_ieq, bounds=boundary,method=\"Simplex\")\n",
    "opt.x \n",
    "wheat = round(opt.x[0])\n",
    "barley = round(opt.x[1])\n",
    "profit = wheat*50 + barley*120\n",
    "print('Amount of wheat=',  wheat)\n",
    "print('Amount of Bareley=',barley)\n",
    "print('profit=', profit)\n"
   ]
  },
  {
   "cell_type": "code",
   "execution_count": null,
   "id": "4b2c49fc",
   "metadata": {},
   "outputs": [],
   "source": []
  },
  {
   "cell_type": "code",
   "execution_count": null,
   "id": "1fb7e3aa",
   "metadata": {},
   "outputs": [],
   "source": []
  }
 ],
 "metadata": {
  "kernelspec": {
   "display_name": "Python 3",
   "language": "python",
   "name": "python3"
  },
  "language_info": {
   "codemirror_mode": {
    "name": "ipython",
    "version": 3
   },
   "file_extension": ".py",
   "mimetype": "text/x-python",
   "name": "python",
   "nbconvert_exporter": "python",
   "pygments_lexer": "ipython3",
   "version": "3.8.8"
  }
 },
 "nbformat": 4,
 "nbformat_minor": 5
}
