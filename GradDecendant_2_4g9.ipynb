{
 "cells": [
  {
   "cell_type": "code",
   "execution_count": 6,
   "id": "687488e6",
   "metadata": {},
   "outputs": [
    {
     "name": "stdout",
     "output_type": "stream",
     "text": [
      "x = 0\n",
      "Global Minimum Point = 10\n"
     ]
    }
   ],
   "source": [
    "import numpy as np\n",
    "x=np.random.uniform(-10, 10)\n",
    "eeta=0.0005\n",
    "iters=500\n",
    "iteration=0\n",
    "while iteration<iters:\n",
    "    slope = 4* x**3 + 6*x\n",
    "    step = -eeta*slope\n",
    "    x = x+step\n",
    "    iteration = iteration+1\n",
    "x=round(x)\n",
    "obj = x**4 + 3 * x**2 + 10\n",
    "print('x =',x)\n",
    "print('Global Minimum Point =', obj)"
   ]
  },
  {
   "cell_type": "code",
   "execution_count": null,
   "id": "c7219b02",
   "metadata": {},
   "outputs": [],
   "source": []
  },
  {
   "cell_type": "code",
   "execution_count": null,
   "id": "0a30dc4b",
   "metadata": {},
   "outputs": [],
   "source": []
  }
 ],
 "metadata": {
  "kernelspec": {
   "display_name": "Python 3",
   "language": "python",
   "name": "python3"
  },
  "language_info": {
   "codemirror_mode": {
    "name": "ipython",
    "version": 3
   },
   "file_extension": ".py",
   "mimetype": "text/x-python",
   "name": "python",
   "nbconvert_exporter": "python",
   "pygments_lexer": "ipython3",
   "version": "3.8.8"
  }
 },
 "nbformat": 4,
 "nbformat_minor": 5
}
